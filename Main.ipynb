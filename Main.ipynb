{
 "cells": [
  {
   "cell_type": "code",
   "execution_count": null,
   "metadata": {},
   "outputs": [],
   "source": [
    "import matplotlib.pyplot as plt\n",
    "import numpy as np\n",
    "import tensorflow as tf\n",
    "from mnist import MNIST\n",
    "#import tensorflow_datasets as tfds"
   ]
  },
  {
   "cell_type": "code",
   "execution_count": null,
   "metadata": {},
   "outputs": [],
   "source": [
    "def load_data():\n",
    "    mndata = MNIST('./Data')\n",
    "    train_X, train_Y = mndata.load_training()\n",
    "    test_X, test_Y = mndata.load_testing()\n",
    "    train_X =np.asarray(train_X)\n",
    "    test_X = np.asarray(test_X)\n",
    "    return train_X, train_Y, test_X, test_Y"
   ]
  },
  {
   "cell_type": "code",
   "execution_count": null,
   "metadata": {},
   "outputs": [],
   "source": [
    "def preprocess_image_data(image_data):\n",
    "    \"\"\"\n",
    "    takes in a array.array object that is assumed to be X image data for MNIST.\n",
    "    Converts to Ndarray and reshape to get grayscale 28x28 images for each row.\n",
    "    converts array to float and normalizes values betweeen 0 and 1\n",
    "    \n",
    "    param image_data: a array.array object that is training or test data\n",
    "    return image_array_norm: normalized image array\n",
    "    \"\"\"\n",
    "    image_array = np.asarray(image_data).reshape(image_data.shape[0], 28, 28, 1)\n",
    "    image_array = image_array.astype(np.float32)\n",
    "    image_array_norm = image_array / 255.0\n",
    "    return image_array_norm"
   ]
  },
  {
   "cell_type": "code",
   "execution_count": null,
   "metadata": {},
   "outputs": [],
   "source": [
    "def preprocess_label_data(label_data):\n",
    "    \"\"\"\n",
    "    takes in a array.array object \n",
    "    \"\"\"\n",
    "    label_array = np.asarray(label_data).reshape(label_data[0])\n",
    "    return label_array"
   ]
  },
  {
   "cell_type": "code",
   "execution_count": null,
   "metadata": {},
   "outputs": [],
   "source": [
    "# load and preprocess data\n",
    "Xtrain, Ytrain, Xtest, Ytest = load_data()\n",
    "Xtrain = preprocess_image_data(Xtrain)\n",
    "Xtest = preprocess_image_data(Xtest)\n"
   ]
  },
  {
   "cell_type": "code",
   "execution_count": null,
   "metadata": {},
   "outputs": [],
   "source": []
  },
  {
   "cell_type": "code",
   "execution_count": null,
   "metadata": {},
   "outputs": [],
   "source": []
  }
 ],
 "metadata": {
  "kernelspec": {
   "display_name": "Python 3",
   "language": "python",
   "name": "python3"
  },
  "language_info": {
   "codemirror_mode": {
    "name": "ipython",
    "version": 3
   },
   "file_extension": ".py",
   "mimetype": "text/x-python",
   "name": "python",
   "nbconvert_exporter": "python",
   "pygments_lexer": "ipython3",
   "version": "3.6.9"
  }
 },
 "nbformat": 4,
 "nbformat_minor": 4
}
