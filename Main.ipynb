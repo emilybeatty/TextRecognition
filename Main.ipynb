{
 "cells": [
  {
   "cell_type": "code",
   "execution_count": 51,
   "metadata": {},
   "outputs": [],
   "source": [
    "import matplotlib.pyplot as plt\n",
    "import numpy as np\n",
    "import tensorflow as tf\n",
    "from mnist import MNIST\n",
    "from sklearn.preprocessing import OneHotEncoder\n",
    "#import tensorflow_datasets as tfds"
   ]
  },
  {
   "cell_type": "code",
   "execution_count": 52,
   "metadata": {},
   "outputs": [],
   "source": [
    "def load_data():\n",
    "    \"\"\"\n",
    "    loads data from local folder Data/.\n",
    "    converts the array.array objects to numpy ndarrays\n",
    "    \"\"\"\n",
    "    mndata = MNIST('./Data')\n",
    "    train_X, train_Y = mndata.load_training()\n",
    "    test_X, test_Y = mndata.load_testing()\n",
    "    train_X =np.asarray(train_X)\n",
    "    test_X = np.asarray(test_X)\n",
    "    train_Y = np.asarray(train_Y)\n",
    "    test_Y = np.asarray(test_Y)\n",
    "    return train_X, train_Y, test_X, test_Y"
   ]
  },
  {
   "cell_type": "code",
   "execution_count": 53,
   "metadata": {},
   "outputs": [],
   "source": [
    "def preprocess_image_data(image_data):\n",
    "    \"\"\"\n",
    "    takes in an array object that is assumed to be X image data for MNIST.\n",
    "    reshape to get grayscale 28x28 images for each row.\n",
    "    converts array to float and normalizes values betweeen 0 and 1\n",
    "    \n",
    "    param image_data: a array.array object that is training or test data\n",
    "    return image_array_norm: normalized image array\n",
    "    \"\"\"\n",
    "    image_array = np.reshape(image_data, (image_data.shape[0], 28, 28, 1))\n",
    "    image_array = image_array.astype(np.float32)\n",
    "    image_array_norm = image_array / 255.0\n",
    "    return image_array_norm"
   ]
  },
  {
   "cell_type": "code",
   "execution_count": 54,
   "metadata": {},
   "outputs": [],
   "source": [
    "def preprocess_label_data(label_data):\n",
    "    \"\"\"\n",
    "    takes in an array object and reshapes to 2D array. \n",
    "    One hot encodes labels since they are categorical.\n",
    "    \n",
    "    param label_data: label data\n",
    "    return encoded_labels: (-1,10) array of encoded data labels\n",
    "    \"\"\"\n",
    "    label_array = label_data.reshape(-1, 1)\n",
    "    hot_encoder = OneHotEncoder(dtype=np.uint8)\n",
    "    hot_encoder.fit(label_array)\n",
    "    encoded_labels = hot_encoder.transform(label_array).toarray()\n",
    "    return encoded_labels"
   ]
  },
  {
   "cell_type": "code",
   "execution_count": 55,
   "metadata": {},
   "outputs": [],
   "source": [
    "# load MNIST data set\n",
    "Xtrain, Ytrain, Xtest, Ytest = load_data()"
   ]
  },
  {
   "cell_type": "code",
   "execution_count": 41,
   "metadata": {},
   "outputs": [],
   "source": [
    "# find out if dataset is balanced \n",
    "def visualize_balance_of_dataset(y, name):\n",
    "    \"\"\"\n",
    "    output bar chart showing number of elements\n",
    "    for multiclass (0, 1, 2,...9). \n",
    "    \n",
    "    Used to visualize how balanced the data set is. \n",
    "    \n",
    "    param y: label array\n",
    "    \"\"\"\n",
    "    u, counts = np.unique(y, return_counts=True)\n",
    "    sum_counts = np.sum(counts)\n",
    "    distro_list = []\n",
    "    for i in counts:\n",
    "        distro =(i / sum_counts) * 100\n",
    "        distro_list.append(distro)\n",
    "    # print('distribution = ', distro_list)    \n",
    "    plt.figure(figsize=(10, 5))\n",
    "    if name == \"Train\":\n",
    "        col = \"blue\"\n",
    "    else:\n",
    "        col = \"red\"\n",
    "    plt.bar(u, counts, color=col)\n",
    "    plt.title(name + \" Dataset Distribution\")\n",
    "    plt.xticks(np.arange(min(u), max(u)+1, 1.0))\n",
    "    plt.xlabel(\"Label Values - Numerical Characters\")\n",
    "    plt.ylabel(\"Number of Label Value Occurrences\")\n",
    "    plt.savefig(name + \"_barChart.png\")"
   ]
  },
  {
   "cell_type": "code",
   "execution_count": 42,
   "metadata": {},
   "outputs": [
    {
     "data": {
      "image/png": "[encoded data removed]",
      "text/plain": [
       "<Figure size 720x360 with 1 Axes>"
      ]
     },
     "metadata": {
      "needs_background": "light"
     },
     "output_type": "display_data"
    },
    {
     "data": {
      "image/png": "[encoded data removed]",
      "text/plain": [
       "<Figure size 720x360 with 1 Axes>"
      ]
     },
     "metadata": {
      "needs_background": "light"
     },
     "output_type": "display_data"
    }
   ],
   "source": [
    "visualize_balance_of_dataset(Ytrain, \"Train\")\n",
    "visualize_balance_of_dataset(Ytest, \"Test\")"
   ]
  },
  {
   "cell_type": "code",
   "execution_count": 56,
   "metadata": {},
   "outputs": [],
   "source": [
    "Xtrain = preprocess_image_data(Xtrain)\n",
    "Xtest = preprocess_image_data(Xtest)"
   ]
  },
  {
   "cell_type": "code",
   "execution_count": 57,
   "metadata": {},
   "outputs": [],
   "source": [
    "# preprocess training and test labels \n",
    "Ytrain = preprocess_label_data(Ytrain)\n",
    "Ytest = preprocess_label_data(Ytest)"
   ]
  },
  {
   "cell_type": "code",
   "execution_count": 58,
   "metadata": {},
   "outputs": [],
   "source": [
    "from sklearn.model_selection import KFold\n",
    "from sklearn.model_selection import StratifiedKFold\n",
    "from keras.models import Sequential\n",
    "from keras.layers import Conv2D\n",
    "from keras.layers import MaxPooling2D\n",
    "from keras.layers import Dense\n",
    "from keras.layers import Flatten\n",
    "from keras.optimizers import SGD"
   ]
  },
  {
   "cell_type": "code",
   "execution_count": 59,
   "metadata": {},
   "outputs": [],
   "source": [
    "def create_CNNmodel():\n",
    "    # add layers for CNN\n",
    "    model = Sequential()\n",
    "    model.add(Conv2D(32, (3, 3), activation='relu', kernel_initializer='he_uniform', input_shape=(28, 28, 1)))\n",
    "    model.add(MaxPooling2D((2, 2)))\n",
    "    model.add(Flatten())\n",
    "    model.add(Dense(100, activation='relu', kernel_initializer='he_uniform'))\n",
    "    model.add(Dense(10, activation='softmax'))\n",
    "    \n",
    "    opt = SGD(lr=0.01, momentum=0.9)\n",
    "    model.compile(optimizer=opt, loss='categorical_crossentropy', metrics=['accuracy'])\n",
    "    return model"
   ]
  },
  {
   "cell_type": "code",
   "execution_count": 12,
   "metadata": {},
   "outputs": [],
   "source": [
    "def split_train_evaluate(Xtrain, Ytrain):\n",
    "    history_list = []\n",
    "    accuracy_list = []\n",
    "    kfold = KFold(n_splits=5, shuffle=True, random_state=10)\n",
    "    for i, j in kfold.split(Xtrain):\n",
    "        Xtrain_fold, Ytrain_fold = Xtrain[i], Ytrain[i]\n",
    "        print(Xtrain_fold.shape)\n",
    "        print('Y', Ytrain_fold.shape)\n",
    "        XVal_fold, YVal_fold = Xtrain[j], Ytrain[j]\n",
    "        cnn = create_CNNmodel()\n",
    "        history = cnn.fit(Xtrain_fold, Ytrain_fold, epochs=10, batch_size=32, validation_data=(XVal_fold, YVal_fold), verbose=0)\n",
    "        _, acc = cnn.evaluate(XVal_fold, YVal_fold, verbose=1)\n",
    "        history_list.append(history)\n",
    "        accuracy_list.append(acc)\n",
    "        print('accuracy = %.3f' % (acc * 100.0))\n",
    "    return history_list, accuracy_list"
   ]
  },
  {
   "cell_type": "code",
   "execution_count": 13,
   "metadata": {},
   "outputs": [
    {
     "name": "stdout",
     "output_type": "stream",
     "text": [
      "(48000, 28, 28, 1)\n",
      "Y (48000, 10)\n",
      "WARNING:tensorflow:From /usr/local/lib/python3.6/dist-packages/tensorflow/python/ops/resource_variable_ops.py:435: colocate_with (from tensorflow.python.framework.ops) is deprecated and will be removed in a future version.\n",
      "Instructions for updating:\n",
      "Colocations handled automatically by placer.\n",
      "WARNING:tensorflow:From /usr/local/lib/python3.6/dist-packages/tensorflow/python/ops/math_ops.py:3066: to_int32 (from tensorflow.python.ops.math_ops) is deprecated and will be removed in a future version.\n",
      "Instructions for updating:\n",
      "Use tf.cast instead.\n",
      "12000/12000 [==============================] - 3s 236us/step\n",
      "> 98.525\n",
      "(48000, 28, 28, 1)\n",
      "Y (48000, 10)\n",
      "12000/12000 [==============================] - 3s 272us/step\n",
      "> 98.750\n",
      "(48000, 28, 28, 1)\n",
      "Y (48000, 10)\n",
      "12000/12000 [==============================] - 3s 244us/step\n",
      "> 98.975\n",
      "(48000, 28, 28, 1)\n",
      "Y (48000, 10)\n",
      "12000/12000 [==============================] - 3s 214us/step\n",
      "> 98.608\n",
      "(48000, 28, 28, 1)\n",
      "Y (48000, 10)\n",
      "12000/12000 [==============================] - 3s 276us/step\n",
      "> 98.542\n"
     ]
    }
   ],
   "source": [
    "hList, aList = split_train_evaluate(Xtrain, Ytrain)"
   ]
  },
  {
   "cell_type": "code",
   "execution_count": 60,
   "metadata": {},
   "outputs": [],
   "source": [
    "def train_evaluate(Xtrain, Ytrain, Xtest, Ytest):\n",
    "    cnn = create_CNNmodel()\n",
    "    history = cnn.fit(Xtrain, Ytrain, batch_size=32, epochs=15, validation_split=0.1)\n",
    "    _, accuracy = cnn.evaluate(Xtest, Ytest, verbose=1)\n",
    "    print('accuracy %.2f' % accuracy)\n",
    "    cnn.save('cnn_model')\n",
    "    return history, accuracy"
   ]
  },
  {
   "cell_type": "code",
   "execution_count": 61,
   "metadata": {},
   "outputs": [
    {
     "name": "stdout",
     "output_type": "stream",
     "text": [
      "Train on 54000 samples, validate on 6000 samples\n",
      "Epoch 1/15\n",
      "54000/54000 [==============================] - 29s 543us/step - loss: 0.1734 - accuracy: 0.9465 - val_loss: 0.0653 - val_accuracy: 0.9825\n",
      "Epoch 2/15\n",
      "54000/54000 [==============================] - 29s 530us/step - loss: 0.0588 - accuracy: 0.9824 - val_loss: 0.0505 - val_accuracy: 0.9878\n",
      "Epoch 3/15\n",
      "54000/54000 [==============================] - 28s 528us/step - loss: 0.0378 - accuracy: 0.9883 - val_loss: 0.0490 - val_accuracy: 0.9885\n",
      "Epoch 4/15\n",
      "54000/54000 [==============================] - 29s 543us/step - loss: 0.0259 - accuracy: 0.9921 - val_loss: 0.0509 - val_accuracy: 0.9863\n",
      "Epoch 5/15\n",
      "54000/54000 [==============================] - 30s 554us/step - loss: 0.0174 - accuracy: 0.9946 - val_loss: 0.0436 - val_accuracy: 0.9877\n",
      "Epoch 6/15\n",
      "54000/54000 [==============================] - 31s 572us/step - loss: 0.0119 - accuracy: 0.9968 - val_loss: 0.0453 - val_accuracy: 0.9888\n",
      "Epoch 7/15\n",
      "54000/54000 [==============================] - 30s 558us/step - loss: 0.0082 - accuracy: 0.9981 - val_loss: 0.0480 - val_accuracy: 0.9875\n",
      "Epoch 8/15\n",
      "54000/54000 [==============================] - 30s 547us/step - loss: 0.0054 - accuracy: 0.9988 - val_loss: 0.0539 - val_accuracy: 0.9863\n",
      "Epoch 9/15\n",
      "54000/54000 [==============================] - 27s 503us/step - loss: 0.0034 - accuracy: 0.9994 - val_loss: 0.0439 - val_accuracy: 0.9897\n",
      "Epoch 10/15\n",
      "54000/54000 [==============================] - 31s 577us/step - loss: 0.0024 - accuracy: 0.9995 - val_loss: 0.0452 - val_accuracy: 0.9887\n",
      "Epoch 11/15\n",
      "54000/54000 [==============================] - 35s 640us/step - loss: 0.0017 - accuracy: 0.9999 - val_loss: 0.0481 - val_accuracy: 0.9893\n",
      "Epoch 12/15\n",
      "54000/54000 [==============================] - 32s 592us/step - loss: 0.0010 - accuracy: 0.9999 - val_loss: 0.0458 - val_accuracy: 0.9893\n",
      "Epoch 13/15\n",
      "54000/54000 [==============================] - 32s 586us/step - loss: 8.7772e-04 - accuracy: 0.9999 - val_loss: 0.0469 - val_accuracy: 0.9892\n",
      "Epoch 14/15\n",
      "54000/54000 [==============================] - 32s 584us/step - loss: 6.2014e-04 - accuracy: 1.0000 - val_loss: 0.0487 - val_accuracy: 0.9892\n",
      "Epoch 15/15\n",
      "54000/54000 [==============================] - 33s 610us/step - loss: 5.1649e-04 - accuracy: 1.0000 - val_loss: 0.0481 - val_accuracy: 0.9888\n",
      "10000/10000 [==============================] - 3s 317us/step\n",
      "accuracy 0.99\n"
     ]
    }
   ],
   "source": [
    "history, accuracy = train_evaluate(Xtrain, Ytrain, Xtest, Ytest)"
   ]
  },
  {
   "cell_type": "code",
   "execution_count": 62,
   "metadata": {},
   "outputs": [
    {
     "name": "stdout",
     "output_type": "stream",
     "text": [
      "Model: \"sequential_10\"\n",
      "_________________________________________________________________\n",
      "Layer (type)                 Output Shape              Param #   \n",
      "=================================================================\n",
      "conv2d_10 (Conv2D)           (None, 26, 26, 32)        320       \n",
      "_________________________________________________________________\n",
      "max_pooling2d_10 (MaxPooling (None, 13, 13, 32)        0         \n",
      "_________________________________________________________________\n",
      "flatten_10 (Flatten)         (None, 5408)              0         \n",
      "_________________________________________________________________\n",
      "dense_19 (Dense)             (None, 100)               540900    \n",
      "_________________________________________________________________\n",
      "dense_20 (Dense)             (None, 10)                1010      \n",
      "=================================================================\n",
      "Total params: 542,230\n",
      "Trainable params: 542,230\n",
      "Non-trainable params: 0\n",
      "_________________________________________________________________\n"
     ]
    }
   ],
   "source": [
    "cnn = create_CNNmodel()\n",
    "cnn.summary()"
   ]
  },
  {
   "cell_type": "code",
   "execution_count": null,
   "metadata": {},
   "outputs": [],
   "source": []
  }
 ],
 "metadata": {
  "kernelspec": {
   "display_name": "Python 3",
   "language": "python",
   "name": "python3"
  },
  "language_info": {
   "codemirror_mode": {
    "name": "ipython",
    "version": 3
   },
   "file_extension": ".py",
   "mimetype": "text/x-python",
   "name": "python",
   "nbconvert_exporter": "python",
   "pygments_lexer": "ipython3",
   "version": "3.6.9"
  }
 },
 "nbformat": 4,
 "nbformat_minor": 4
}
